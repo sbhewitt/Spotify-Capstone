{
 "cells": [
  {
   "cell_type": "markdown",
   "id": "ab04a5fd-eb48-4cea-ac4a-96049964e65b",
   "metadata": {},
   "source": [
    "# Data Cleaning"
   ]
  },
  {
   "cell_type": "code",
   "execution_count": 2,
   "id": "bf3f6514-c58d-4dec-a595-108dfca243b4",
   "metadata": {},
   "outputs": [],
   "source": [
    "import pandas as pd\n",
    "import numpy as np\n",
    "import matplotlib.pyplot as plt\n",
    "\n",
    "from sklearn.preprocessing import StandardScaler, PolynomialFeatures\n",
    "from sklearn.linear_model import LinearRegression\n",
    "from sklearn.model_selection import train_test_split, GridSearchCV\n",
    "from sklearn.pipeline import Pipeline\n",
    "from sklearn.neighbors import KNeighborsRegressor\n",
    "from sklearn.tree import DecisionTreeRegressor\n",
    "from sklearn.ensemble import BaggingRegressor, RandomForestRegressor, AdaBoostRegressor\n",
    "\n",
    "from sklearn import metrics"
   ]
  },
  {
   "cell_type": "code",
   "execution_count": 16,
   "id": "b95b426d-f859-4374-82b4-89edee1e3ad2",
   "metadata": {},
   "outputs": [],
   "source": [
    "merged_df = pd.read_csv('./data/merged_tracks.csv')"
   ]
  },
  {
   "cell_type": "code",
   "execution_count": 17,
   "id": "e89fc9fe-7426-4227-90e2-b91e4c558723",
   "metadata": {},
   "outputs": [
    {
     "data": {
      "text/plain": [
       "Johann Sebastian Bach         123\n",
       "YoungBoy Never Broke Again    110\n",
       "Workout Music                 109\n",
       "Taylor Swift                   91\n",
       "David Bowie                    89\n",
       "                             ... \n",
       "Ignorant Bull                   1\n",
       "your best friend jippy          1\n",
       "Meech                           1\n",
       "Champion                        1\n",
       "ZP                              1\n",
       "Name: artist_name, Length: 3738, dtype: int64"
      ]
     },
     "execution_count": 17,
     "metadata": {},
     "output_type": "execute_result"
    }
   ],
   "source": [
    "merged_df['artist_name'].value_counts()"
   ]
  },
  {
   "cell_type": "code",
   "execution_count": 18,
   "id": "0be78418-2ae8-4392-9cf9-722138e343d1",
   "metadata": {},
   "outputs": [
    {
     "data": {
      "text/plain": [
       "Johann Sebastian Bach         123\n",
       "YoungBoy Never Broke Again    110\n",
       "Workout Music                 109\n",
       "Taylor Swift                   91\n",
       "David Bowie                    89\n",
       "                             ... \n",
       "Ignorant Bull                   1\n",
       "your best friend jippy          1\n",
       "Meech                           1\n",
       "Champion                        1\n",
       "ZP                              1\n",
       "Name: artist_name, Length: 3738, dtype: int64"
      ]
     },
     "execution_count": 18,
     "metadata": {},
     "output_type": "execute_result"
    }
   ],
   "source": [
    "merged_df['artist_name'].value_counts()"
   ]
  },
  {
   "cell_type": "code",
   "execution_count": 19,
   "id": "eef5ba5a-7d17-446f-92f2-86b8854b511b",
   "metadata": {},
   "outputs": [
    {
     "data": {
      "text/plain": [
       "Index(['artist_name', 'track_name', 'track_id', 'popularity', 'danceability',\n",
       "       'energy', 'key', 'loudness', 'mode', 'speechiness', 'acousticness',\n",
       "       'instrumentalness', 'liveness', 'valence', 'tempo', 'duration_ms',\n",
       "       'time_signature'],\n",
       "      dtype='object')"
      ]
     },
     "execution_count": 19,
     "metadata": {},
     "output_type": "execute_result"
    }
   ],
   "source": [
    "merged_df.columns"
   ]
  },
  {
   "cell_type": "code",
   "execution_count": 21,
   "id": "b0f7df38-6c38-4819-bd45-4f450077bfae",
   "metadata": {},
   "outputs": [],
   "source": [
    "X = merged_df[['danceability', 'energy', 'key', 'loudness', 'mode', 'speechiness', 'acousticness', 'instrumentalness', 'liveness', 'valence', 'tempo', 'time_signature']]\n",
    "y = merged_df['popularity']\n",
    "X_train, X_test, y_train, y_test = train_test_split(X, y, random_state = 42)"
   ]
  },
  {
   "cell_type": "code",
   "execution_count": 22,
   "id": "f6eba540-d8fc-4e79-927f-58b73e7267e5",
   "metadata": {},
   "outputs": [],
   "source": [
    "def model(model):\n",
    "    models = model\n",
    "    models.fit(X_train, y_train)\n",
    "    print(f'{model}')\n",
    "    print(f'Training r2 score: {models.score(X_train, y_train)}')\n",
    "    print(f'Testing r2 score: {models.score(X_test, y_test)}')\n",
    "    print(f'Testing MSE: {metrics.mean_squared_error(y_test, models.predict(X_test))}')\n",
    "    return print('='*40)"
   ]
  },
  {
   "cell_type": "code",
   "execution_count": 23,
   "id": "6936ac66-13a4-41a8-ac52-b0d4dfeb2da7",
   "metadata": {},
   "outputs": [
    {
     "name": "stdout",
     "output_type": "stream",
     "text": [
      "LinearRegression()\n",
      "Training r2 score: 0.23317069415733127\n",
      "Testing r2 score: 0.2388739919183922\n",
      "Testing MSE: 719.0519767347585\n",
      "========================================\n",
      "KNeighborsRegressor()\n",
      "Training r2 score: 0.37417013100813434\n",
      "Testing r2 score: 0.057724544427296465\n",
      "Testing MSE: 890.1877241929055\n",
      "========================================\n",
      "DecisionTreeRegressor()\n",
      "Training r2 score: 0.9958816676555867\n",
      "Testing r2 score: -0.2816475122969202\n",
      "Testing MSE: 1210.799745914707\n",
      "========================================\n",
      "BaggingRegressor()\n",
      "Training r2 score: 0.8725323988551213\n",
      "Testing r2 score: 0.28105206310072905\n",
      "Testing MSE: 679.2054531151545\n",
      "========================================\n",
      "RandomForestRegressor()\n",
      "Training r2 score: 0.9073833292778355\n",
      "Testing r2 score: 0.35009485548316055\n",
      "Testing MSE: 613.9792542798206\n",
      "========================================\n",
      "AdaBoostRegressor()\n",
      "Training r2 score: 0.23051127904865365\n",
      "Testing r2 score: 0.21903121847960294\n",
      "Testing MSE: 737.7978681030265\n",
      "========================================\n"
     ]
    }
   ],
   "source": [
    "model(LinearRegression())\n",
    "model(KNeighborsRegressor())\n",
    "model(DecisionTreeRegressor())\n",
    "model(BaggingRegressor())\n",
    "model(RandomForestRegressor())\n",
    "model(AdaBoostRegressor())"
   ]
  },
  {
   "cell_type": "code",
   "execution_count": 24,
   "id": "f27e01f6-69da-4a32-9a48-a6d445e009c9",
   "metadata": {},
   "outputs": [
    {
     "name": "stdout",
     "output_type": "stream",
     "text": [
      "LinearRegression()\n",
      "Training r2 score: 0.05062455084640671\n",
      "Testing r2 score: 0.052534656990840145\n",
      "Testing MSE: 895.0907215686235\n",
      "========================================\n",
      "KNeighborsRegressor()\n",
      "Training r2 score: 0.28725173533647275\n",
      "Testing r2 score: -0.10741733560521904\n",
      "Testing MSE: 1046.200781187724\n",
      "========================================\n",
      "DecisionTreeRegressor()\n",
      "Training r2 score: 0.9956184663580941\n",
      "Testing r2 score: -0.5606928335163084\n",
      "Testing MSE: 1474.419813670785\n",
      "========================================\n",
      "BaggingRegressor()\n",
      "Training r2 score: 0.832054461904949\n",
      "Testing r2 score: 0.08322000924147366\n",
      "Testing MSE: 866.1016146949365\n",
      "========================================\n",
      "RandomForestRegressor()\n",
      "Training r2 score: 0.8790570309684865\n",
      "Testing r2 score: 0.16037349172287363\n",
      "Testing MSE: 793.213073899898\n",
      "========================================\n",
      "AdaBoostRegressor()\n",
      "Training r2 score: 0.1105010105533617\n",
      "Testing r2 score: 0.09417702464671629\n",
      "Testing MSE: 855.7502884984888\n",
      "========================================\n"
     ]
    }
   ],
   "source": [
    "X = merged_df[['danceability', 'energy', 'key', 'mode', 'valence', 'tempo', 'time_signature']]\n",
    "y = merged_df['popularity']\n",
    "\n",
    "X_train, X_test, y_train, y_test = train_test_split(X, y, random_state = 42)\n",
    "\n",
    "model(LinearRegression())\n",
    "model(KNeighborsRegressor())\n",
    "model(DecisionTreeRegressor())\n",
    "model(BaggingRegressor())\n",
    "model(RandomForestRegressor())\n",
    "model(AdaBoostRegressor())"
   ]
  },
  {
   "cell_type": "code",
   "execution_count": 25,
   "id": "bbd8cb44-2346-417f-a84d-6fd61b9641d5",
   "metadata": {},
   "outputs": [
    {
     "name": "stdout",
     "output_type": "stream",
     "text": [
      "Fitting 10 folds for each of 465 candidates, totalling 4650 fits\n",
      "Training r2 score: 0.11327401915890833\n",
      "Testing r2 score: 0.0535665857302462\n",
      "Testing MSE: 894.1158364746434\n"
     ]
    }
   ],
   "source": [
    "knn = KNeighborsRegressor()\n",
    "knn_params = {\n",
    "    'n_neighbors': range(1, 32),\n",
    "    'metric': ['euclidean', 'manhattan', 'minkowski'],\n",
    "    'leaf_size': [5, 10, 15, 30, 45]\n",
    "}\n",
    "gs = GridSearchCV(knn, \n",
    "                  knn_params,\n",
    "                  cv = 10,\n",
    "                  verbose=1)\n",
    "gs.fit(X_train, y_train)\n",
    "print(f'Training r2 score: {gs.score(X_train, y_train)}')\n",
    "print(f'Testing r2 score: {gs.score(X_test, y_test)}')\n",
    "print(f'Testing MSE: {metrics.mean_squared_error(y_test, gs.predict(X_test))}')"
   ]
  },
  {
   "cell_type": "code",
   "execution_count": 26,
   "id": "69565328-86cd-4099-976f-043303a07cb7",
   "metadata": {},
   "outputs": [
    {
     "data": {
      "text/plain": [
       "{'leaf_size': 5, 'metric': 'manhattan', 'n_neighbors': 31}"
      ]
     },
     "execution_count": 26,
     "metadata": {},
     "output_type": "execute_result"
    }
   ],
   "source": [
    "gs.best_params_"
   ]
  },
  {
   "cell_type": "code",
   "execution_count": 27,
   "id": "8478c8ff-c253-4f93-a03f-c2681d506f66",
   "metadata": {},
   "outputs": [
    {
     "data": {
      "text/plain": [
       "{'algorithm': 'auto',\n",
       " 'leaf_size': 30,\n",
       " 'metric': 'minkowski',\n",
       " 'metric_params': None,\n",
       " 'n_jobs': None,\n",
       " 'n_neighbors': 5,\n",
       " 'p': 2,\n",
       " 'weights': 'uniform'}"
      ]
     },
     "execution_count": 27,
     "metadata": {},
     "output_type": "execute_result"
    }
   ],
   "source": [
    "knn.get_params()"
   ]
  },
  {
   "cell_type": "code",
   "execution_count": 28,
   "id": "dfe5dca8-ed49-44cd-a761-459713af1086",
   "metadata": {},
   "outputs": [
    {
     "name": "stdout",
     "output_type": "stream",
     "text": [
      "Training r2 score: 0.05062455084640671\n",
      "Testing r2 score: 0.052534656990840145\n",
      "Testing MSE: 895.0907215686235\n",
      "Baseline MSE: 944.835611047945\n"
     ]
    }
   ],
   "source": [
    "lr = LinearRegression()\n",
    "lr.fit(X_train, y_train)\n",
    "print(f'Training r2 score: {lr.score(X_train, y_train)}')\n",
    "print(f'Testing r2 score: {lr.score(X_test, y_test)}')\n",
    "print(f'Testing MSE: {metrics.mean_squared_error(y_test, lr.predict(X_test))}')\n",
    "print(f'Baseline MSE: {metrics.mean_squared_error(y_test, pd.Series(y.mean(), index=range(len(y_test))))}')"
   ]
  },
  {
   "cell_type": "code",
   "execution_count": 29,
   "id": "9db93136-b34f-488c-a607-6511b69fc4d1",
   "metadata": {},
   "outputs": [
    {
     "name": "stdout",
     "output_type": "stream",
     "text": [
      "Training r2 score: 0.8803308121563803\n",
      "Testing r2 score: 0.1586437791663623\n",
      "Testing MSE: 794.8471702515352\n",
      "Baseline MSE: 944.835611047945\n"
     ]
    }
   ],
   "source": [
    "rf = RandomForestRegressor()\n",
    "rf.fit(X_train, y_train)\n",
    "print(f'Training r2 score: {rf.score(X_train, y_train)}')\n",
    "print(f'Testing r2 score: {rf.score(X_test, y_test)}')\n",
    "print(f'Testing MSE: {metrics.mean_squared_error(y_test, rf.predict(X_test))}')\n",
    "print(f'Baseline MSE: {metrics.mean_squared_error(y_test, pd.Series(y.mean(), index=range(len(y_test))))}')"
   ]
  },
  {
   "cell_type": "code",
   "execution_count": 31,
   "id": "5a70ef69-40bb-40dd-9c8d-3f69c01d9ef3",
   "metadata": {},
   "outputs": [
    {
     "name": "stdout",
     "output_type": "stream",
     "text": [
      "Fitting 5 folds for each of 64 candidates, totalling 320 fits\n",
      "Training r2 score: 0.6053014287935046\n",
      "Testing r2 score: 0.1750180240223832\n",
      "Testing MSE: 779.3780718286123\n"
     ]
    }
   ],
   "source": [
    "rf = RandomForestRegressor()\n",
    "rf_params = {\n",
    "    'n_estimators': [50, 100, 150, 200],\n",
    "    'min_samples_leaf': [2, 3, 4, 5],\n",
    "    'max_leaf_nodes': [None, 2, 3, 5]\n",
    "}\n",
    "gs = GridSearchCV(rf, \n",
    "                  rf_params,\n",
    "                  cv = 5,\n",
    "                  verbose=1)\n",
    "gs.fit(X_train, y_train)\n",
    "print(f'Training r2 score: {gs.score(X_train, y_train)}')\n",
    "print(f'Testing r2 score: {gs.score(X_test, y_test)}')\n",
    "print(f'Testing MSE: {metrics.mean_squared_error(y_test, gs.predict(X_test))}')"
   ]
  },
  {
   "cell_type": "code",
   "execution_count": 32,
   "id": "6c70a681-2709-4b4a-9c64-a2b2bfe66f55",
   "metadata": {},
   "outputs": [
    {
     "data": {
      "text/plain": [
       "{'bootstrap': True,\n",
       " 'ccp_alpha': 0.0,\n",
       " 'criterion': 'squared_error',\n",
       " 'max_depth': None,\n",
       " 'max_features': 'auto',\n",
       " 'max_leaf_nodes': None,\n",
       " 'max_samples': None,\n",
       " 'min_impurity_decrease': 0.0,\n",
       " 'min_samples_leaf': 1,\n",
       " 'min_samples_split': 2,\n",
       " 'min_weight_fraction_leaf': 0.0,\n",
       " 'n_estimators': 100,\n",
       " 'n_jobs': None,\n",
       " 'oob_score': False,\n",
       " 'random_state': None,\n",
       " 'verbose': 0,\n",
       " 'warm_start': False}"
      ]
     },
     "execution_count": 32,
     "metadata": {},
     "output_type": "execute_result"
    }
   ],
   "source": [
    "rf.get_params()"
   ]
  },
  {
   "cell_type": "code",
   "execution_count": 33,
   "id": "d8f082ac-5c91-488c-b8e6-d092efc0a31c",
   "metadata": {},
   "outputs": [
    {
     "data": {
      "text/plain": [
       "{'max_leaf_nodes': None, 'min_samples_leaf': 5, 'n_estimators': 200}"
      ]
     },
     "execution_count": 33,
     "metadata": {},
     "output_type": "execute_result"
    }
   ],
   "source": [
    "gs.best_params_"
   ]
  },
  {
   "cell_type": "code",
   "execution_count": null,
   "id": "6fa996da-9317-4e91-bd8f-6629806edbf2",
   "metadata": {},
   "outputs": [],
   "source": []
  }
 ],
 "metadata": {
  "kernelspec": {
   "display_name": "Python 3 (ipykernel)",
   "language": "python",
   "name": "python3"
  },
  "language_info": {
   "codemirror_mode": {
    "name": "ipython",
    "version": 3
   },
   "file_extension": ".py",
   "mimetype": "text/x-python",
   "name": "python",
   "nbconvert_exporter": "python",
   "pygments_lexer": "ipython3",
   "version": "3.9.12"
  }
 },
 "nbformat": 4,
 "nbformat_minor": 5
}
